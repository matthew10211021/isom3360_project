{
 "cells": [
  {
   "cell_type": "markdown",
   "metadata": {},
   "source": [
    "## Mining Polish Bankruptcy Data\n",
    "<table><tr><td><img src='resources/img_0.jpg'></td><td><img src='resources/img_1.jpg'></td><td><img src='resources/img_2.jpg'></td></tr></table>"
   ]
  },
  {
   "cell_type": "markdown",
   "metadata": {},
   "source": [
    "### A. Import libraries and data"
   ]
  },
  {
   "cell_type": "markdown",
   "metadata": {},
   "source": [
    "#### (i) libraries"
   ]
  },
  {
   "cell_type": "code",
   "execution_count": 1,
   "metadata": {},
   "outputs": [],
   "source": [
    "# general utilities\n",
    "import pandas as pd\n",
    "import numpy as np\n",
    "from scipy.io import arff\n",
    "from sklearn.model_selection import train_test_split\n",
    "from sklearn import preprocessing\n",
    "\n",
    "# classification models\n",
    "from sklearn.tree import DecisionTreeClassifier\n",
    "from sklearn.ensemble import RandomForestClassifier\n",
    "from sklearn.linear_model import LogisticRegression\n",
    "from sklearn.naive_bayes import GaussianNB\n",
    "\n",
    "# for hyperparameters tuning and cross validation\n",
    "from sklearn.model_selection import GridSearchCV\n",
    "\n",
    "# for displaying / plotting\n",
    "from IPython.display import display\n",
    "import matplotlib.pyplot as plt"
   ]
  },
  {
   "cell_type": "markdown",
   "metadata": {},
   "source": [
    "#### (ii) data\n",
    "- loading data from arff file<br>\n",
    "Reference: https://discuss.analyticsvidhya.com/t/loading-arff-type-files-in-python/27419"
   ]
  },
  {
   "cell_type": "code",
   "execution_count": 2,
   "metadata": {
    "scrolled": true
   },
   "outputs": [],
   "source": [
    "# import data\n",
    "years = [1,2,3,4,5]\n",
    "raw_data = {} # dictionary of dataframe\n",
    "\n",
    "for year in years:\n",
    "    arr = arff.loadarff(f\"data/year{year}.arff\")\n",
    "    raw_data[f\"year{str(year)}\"] = pd.DataFrame(arr[0])"
   ]
  },
  {
   "cell_type": "code",
   "execution_count": 3,
   "metadata": {
    "scrolled": false
   },
   "outputs": [
    {
     "data": {
      "text/html": [
       "<div>\n",
       "<style scoped>\n",
       "    .dataframe tbody tr th:only-of-type {\n",
       "        vertical-align: middle;\n",
       "    }\n",
       "\n",
       "    .dataframe tbody tr th {\n",
       "        vertical-align: top;\n",
       "    }\n",
       "\n",
       "    .dataframe thead th {\n",
       "        text-align: right;\n",
       "    }\n",
       "</style>\n",
       "<table border=\"1\" class=\"dataframe\">\n",
       "  <thead>\n",
       "    <tr style=\"text-align: right;\">\n",
       "      <th></th>\n",
       "      <th>Attr1</th>\n",
       "      <th>Attr2</th>\n",
       "      <th>Attr3</th>\n",
       "      <th>Attr4</th>\n",
       "      <th>Attr5</th>\n",
       "      <th>Attr6</th>\n",
       "      <th>Attr7</th>\n",
       "      <th>Attr8</th>\n",
       "      <th>Attr9</th>\n",
       "      <th>Attr10</th>\n",
       "      <th>...</th>\n",
       "      <th>Attr56</th>\n",
       "      <th>Attr57</th>\n",
       "      <th>Attr58</th>\n",
       "      <th>Attr59</th>\n",
       "      <th>Attr60</th>\n",
       "      <th>Attr61</th>\n",
       "      <th>Attr62</th>\n",
       "      <th>Attr63</th>\n",
       "      <th>Attr64</th>\n",
       "      <th>class</th>\n",
       "    </tr>\n",
       "  </thead>\n",
       "  <tbody>\n",
       "    <tr>\n",
       "      <th>0</th>\n",
       "      <td>0.200550</td>\n",
       "      <td>0.37951</td>\n",
       "      <td>0.39641</td>\n",
       "      <td>2.04720</td>\n",
       "      <td>32.3510</td>\n",
       "      <td>0.388250</td>\n",
       "      <td>0.249760</td>\n",
       "      <td>1.330500</td>\n",
       "      <td>1.13890</td>\n",
       "      <td>0.504940</td>\n",
       "      <td>...</td>\n",
       "      <td>0.121960</td>\n",
       "      <td>0.397180</td>\n",
       "      <td>0.87804</td>\n",
       "      <td>0.001924</td>\n",
       "      <td>8.4160</td>\n",
       "      <td>5.1372</td>\n",
       "      <td>82.658</td>\n",
       "      <td>4.4158</td>\n",
       "      <td>7.42770</td>\n",
       "      <td>b'0'</td>\n",
       "    </tr>\n",
       "    <tr>\n",
       "      <th>1</th>\n",
       "      <td>0.209120</td>\n",
       "      <td>0.49988</td>\n",
       "      <td>0.47225</td>\n",
       "      <td>1.94470</td>\n",
       "      <td>14.7860</td>\n",
       "      <td>0.000000</td>\n",
       "      <td>0.258340</td>\n",
       "      <td>0.996010</td>\n",
       "      <td>1.69960</td>\n",
       "      <td>0.497880</td>\n",
       "      <td>...</td>\n",
       "      <td>0.121300</td>\n",
       "      <td>0.420020</td>\n",
       "      <td>0.85300</td>\n",
       "      <td>0.000000</td>\n",
       "      <td>4.1486</td>\n",
       "      <td>3.2732</td>\n",
       "      <td>107.350</td>\n",
       "      <td>3.4000</td>\n",
       "      <td>60.98700</td>\n",
       "      <td>b'0'</td>\n",
       "    </tr>\n",
       "    <tr>\n",
       "      <th>2</th>\n",
       "      <td>0.248660</td>\n",
       "      <td>0.69592</td>\n",
       "      <td>0.26713</td>\n",
       "      <td>1.55480</td>\n",
       "      <td>-1.1523</td>\n",
       "      <td>0.000000</td>\n",
       "      <td>0.309060</td>\n",
       "      <td>0.436950</td>\n",
       "      <td>1.30900</td>\n",
       "      <td>0.304080</td>\n",
       "      <td>...</td>\n",
       "      <td>0.241140</td>\n",
       "      <td>0.817740</td>\n",
       "      <td>0.76599</td>\n",
       "      <td>0.694840</td>\n",
       "      <td>4.9909</td>\n",
       "      <td>3.9510</td>\n",
       "      <td>134.270</td>\n",
       "      <td>2.7185</td>\n",
       "      <td>5.20780</td>\n",
       "      <td>b'0'</td>\n",
       "    </tr>\n",
       "    <tr>\n",
       "      <th>3</th>\n",
       "      <td>0.081483</td>\n",
       "      <td>0.30734</td>\n",
       "      <td>0.45879</td>\n",
       "      <td>2.49280</td>\n",
       "      <td>51.9520</td>\n",
       "      <td>0.149880</td>\n",
       "      <td>0.092704</td>\n",
       "      <td>1.866100</td>\n",
       "      <td>1.05710</td>\n",
       "      <td>0.573530</td>\n",
       "      <td>...</td>\n",
       "      <td>0.054015</td>\n",
       "      <td>0.142070</td>\n",
       "      <td>0.94598</td>\n",
       "      <td>0.000000</td>\n",
       "      <td>4.5746</td>\n",
       "      <td>3.6147</td>\n",
       "      <td>86.435</td>\n",
       "      <td>4.2228</td>\n",
       "      <td>5.54970</td>\n",
       "      <td>b'0'</td>\n",
       "    </tr>\n",
       "    <tr>\n",
       "      <th>4</th>\n",
       "      <td>0.187320</td>\n",
       "      <td>0.61323</td>\n",
       "      <td>0.22960</td>\n",
       "      <td>1.40630</td>\n",
       "      <td>-7.3128</td>\n",
       "      <td>0.187320</td>\n",
       "      <td>0.187320</td>\n",
       "      <td>0.630700</td>\n",
       "      <td>1.15590</td>\n",
       "      <td>0.386770</td>\n",
       "      <td>...</td>\n",
       "      <td>0.134850</td>\n",
       "      <td>0.484310</td>\n",
       "      <td>0.86515</td>\n",
       "      <td>0.124440</td>\n",
       "      <td>6.3985</td>\n",
       "      <td>4.3158</td>\n",
       "      <td>127.210</td>\n",
       "      <td>2.8692</td>\n",
       "      <td>7.89800</td>\n",
       "      <td>b'0'</td>\n",
       "    </tr>\n",
       "    <tr>\n",
       "      <th>...</th>\n",
       "      <td>...</td>\n",
       "      <td>...</td>\n",
       "      <td>...</td>\n",
       "      <td>...</td>\n",
       "      <td>...</td>\n",
       "      <td>...</td>\n",
       "      <td>...</td>\n",
       "      <td>...</td>\n",
       "      <td>...</td>\n",
       "      <td>...</td>\n",
       "      <td>...</td>\n",
       "      <td>...</td>\n",
       "      <td>...</td>\n",
       "      <td>...</td>\n",
       "      <td>...</td>\n",
       "      <td>...</td>\n",
       "      <td>...</td>\n",
       "      <td>...</td>\n",
       "      <td>...</td>\n",
       "      <td>...</td>\n",
       "      <td>...</td>\n",
       "    </tr>\n",
       "    <tr>\n",
       "      <th>7022</th>\n",
       "      <td>0.018371</td>\n",
       "      <td>0.47410</td>\n",
       "      <td>-0.13619</td>\n",
       "      <td>0.60839</td>\n",
       "      <td>-18.4490</td>\n",
       "      <td>0.018371</td>\n",
       "      <td>0.018371</td>\n",
       "      <td>0.972030</td>\n",
       "      <td>1.01210</td>\n",
       "      <td>0.460840</td>\n",
       "      <td>...</td>\n",
       "      <td>0.011909</td>\n",
       "      <td>0.039866</td>\n",
       "      <td>0.98809</td>\n",
       "      <td>0.274140</td>\n",
       "      <td>73.5050</td>\n",
       "      <td>79.2370</td>\n",
       "      <td>31.268</td>\n",
       "      <td>11.6730</td>\n",
       "      <td>5.14890</td>\n",
       "      <td>b'1'</td>\n",
       "    </tr>\n",
       "    <tr>\n",
       "      <th>7023</th>\n",
       "      <td>-0.013359</td>\n",
       "      <td>0.58354</td>\n",
       "      <td>-0.02265</td>\n",
       "      <td>0.92896</td>\n",
       "      <td>-42.2320</td>\n",
       "      <td>-0.013359</td>\n",
       "      <td>-0.015036</td>\n",
       "      <td>0.562890</td>\n",
       "      <td>0.98904</td>\n",
       "      <td>0.328470</td>\n",
       "      <td>...</td>\n",
       "      <td>-0.011082</td>\n",
       "      <td>-0.040671</td>\n",
       "      <td>1.01110</td>\n",
       "      <td>0.805920</td>\n",
       "      <td>10.5990</td>\n",
       "      <td>7.1740</td>\n",
       "      <td>94.092</td>\n",
       "      <td>3.8792</td>\n",
       "      <td>1.75720</td>\n",
       "      <td>b'1'</td>\n",
       "    </tr>\n",
       "    <tr>\n",
       "      <th>7024</th>\n",
       "      <td>0.006338</td>\n",
       "      <td>0.50276</td>\n",
       "      <td>0.43923</td>\n",
       "      <td>1.87360</td>\n",
       "      <td>9.7417</td>\n",
       "      <td>0.006338</td>\n",
       "      <td>0.012022</td>\n",
       "      <td>0.983560</td>\n",
       "      <td>1.00830</td>\n",
       "      <td>0.494490</td>\n",
       "      <td>...</td>\n",
       "      <td>0.008258</td>\n",
       "      <td>0.012817</td>\n",
       "      <td>0.99174</td>\n",
       "      <td>0.000000</td>\n",
       "      <td>10.4700</td>\n",
       "      <td>6.0759</td>\n",
       "      <td>51.019</td>\n",
       "      <td>7.1542</td>\n",
       "      <td>62.00100</td>\n",
       "      <td>b'1'</td>\n",
       "    </tr>\n",
       "    <tr>\n",
       "      <th>7025</th>\n",
       "      <td>-0.041643</td>\n",
       "      <td>0.84810</td>\n",
       "      <td>-0.12852</td>\n",
       "      <td>0.57485</td>\n",
       "      <td>-121.9200</td>\n",
       "      <td>0.000000</td>\n",
       "      <td>-0.036795</td>\n",
       "      <td>0.179010</td>\n",
       "      <td>0.42138</td>\n",
       "      <td>0.151820</td>\n",
       "      <td>...</td>\n",
       "      <td>-0.232720</td>\n",
       "      <td>-0.274290</td>\n",
       "      <td>0.98788</td>\n",
       "      <td>3.593100</td>\n",
       "      <td>39.7030</td>\n",
       "      <td>3.1420</td>\n",
       "      <td>261.850</td>\n",
       "      <td>1.3939</td>\n",
       "      <td>0.51005</td>\n",
       "      <td>b'1'</td>\n",
       "    </tr>\n",
       "    <tr>\n",
       "      <th>7026</th>\n",
       "      <td>0.014946</td>\n",
       "      <td>0.94648</td>\n",
       "      <td>0.03211</td>\n",
       "      <td>1.03630</td>\n",
       "      <td>-20.5810</td>\n",
       "      <td>0.000000</td>\n",
       "      <td>0.015260</td>\n",
       "      <td>0.056357</td>\n",
       "      <td>2.96940</td>\n",
       "      <td>0.053341</td>\n",
       "      <td>...</td>\n",
       "      <td>0.015705</td>\n",
       "      <td>0.280210</td>\n",
       "      <td>0.97443</td>\n",
       "      <td>1.179200</td>\n",
       "      <td>15.0360</td>\n",
       "      <td>4.1741</td>\n",
       "      <td>108.640</td>\n",
       "      <td>3.3599</td>\n",
       "      <td>35.11800</td>\n",
       "      <td>b'1'</td>\n",
       "    </tr>\n",
       "  </tbody>\n",
       "</table>\n",
       "<p>7027 rows × 65 columns</p>\n",
       "</div>"
      ],
      "text/plain": [
       "         Attr1    Attr2    Attr3    Attr4     Attr5     Attr6     Attr7  \\\n",
       "0     0.200550  0.37951  0.39641  2.04720   32.3510  0.388250  0.249760   \n",
       "1     0.209120  0.49988  0.47225  1.94470   14.7860  0.000000  0.258340   \n",
       "2     0.248660  0.69592  0.26713  1.55480   -1.1523  0.000000  0.309060   \n",
       "3     0.081483  0.30734  0.45879  2.49280   51.9520  0.149880  0.092704   \n",
       "4     0.187320  0.61323  0.22960  1.40630   -7.3128  0.187320  0.187320   \n",
       "...        ...      ...      ...      ...       ...       ...       ...   \n",
       "7022  0.018371  0.47410 -0.13619  0.60839  -18.4490  0.018371  0.018371   \n",
       "7023 -0.013359  0.58354 -0.02265  0.92896  -42.2320 -0.013359 -0.015036   \n",
       "7024  0.006338  0.50276  0.43923  1.87360    9.7417  0.006338  0.012022   \n",
       "7025 -0.041643  0.84810 -0.12852  0.57485 -121.9200  0.000000 -0.036795   \n",
       "7026  0.014946  0.94648  0.03211  1.03630  -20.5810  0.000000  0.015260   \n",
       "\n",
       "         Attr8    Attr9    Attr10  ...    Attr56    Attr57   Attr58    Attr59  \\\n",
       "0     1.330500  1.13890  0.504940  ...  0.121960  0.397180  0.87804  0.001924   \n",
       "1     0.996010  1.69960  0.497880  ...  0.121300  0.420020  0.85300  0.000000   \n",
       "2     0.436950  1.30900  0.304080  ...  0.241140  0.817740  0.76599  0.694840   \n",
       "3     1.866100  1.05710  0.573530  ...  0.054015  0.142070  0.94598  0.000000   \n",
       "4     0.630700  1.15590  0.386770  ...  0.134850  0.484310  0.86515  0.124440   \n",
       "...        ...      ...       ...  ...       ...       ...      ...       ...   \n",
       "7022  0.972030  1.01210  0.460840  ...  0.011909  0.039866  0.98809  0.274140   \n",
       "7023  0.562890  0.98904  0.328470  ... -0.011082 -0.040671  1.01110  0.805920   \n",
       "7024  0.983560  1.00830  0.494490  ...  0.008258  0.012817  0.99174  0.000000   \n",
       "7025  0.179010  0.42138  0.151820  ... -0.232720 -0.274290  0.98788  3.593100   \n",
       "7026  0.056357  2.96940  0.053341  ...  0.015705  0.280210  0.97443  1.179200   \n",
       "\n",
       "       Attr60   Attr61   Attr62   Attr63    Attr64  class  \n",
       "0      8.4160   5.1372   82.658   4.4158   7.42770   b'0'  \n",
       "1      4.1486   3.2732  107.350   3.4000  60.98700   b'0'  \n",
       "2      4.9909   3.9510  134.270   2.7185   5.20780   b'0'  \n",
       "3      4.5746   3.6147   86.435   4.2228   5.54970   b'0'  \n",
       "4      6.3985   4.3158  127.210   2.8692   7.89800   b'0'  \n",
       "...       ...      ...      ...      ...       ...    ...  \n",
       "7022  73.5050  79.2370   31.268  11.6730   5.14890   b'1'  \n",
       "7023  10.5990   7.1740   94.092   3.8792   1.75720   b'1'  \n",
       "7024  10.4700   6.0759   51.019   7.1542  62.00100   b'1'  \n",
       "7025  39.7030   3.1420  261.850   1.3939   0.51005   b'1'  \n",
       "7026  15.0360   4.1741  108.640   3.3599  35.11800   b'1'  \n",
       "\n",
       "[7027 rows x 65 columns]"
      ]
     },
     "execution_count": 3,
     "metadata": {},
     "output_type": "execute_result"
    }
   ],
   "source": [
    "# check that the data is correctly load\n",
    "raw_data[\"year1\"]"
   ]
  },
  {
   "cell_type": "markdown",
   "metadata": {},
   "source": [
    "#### (iii) renaming the target column\n",
    "- Since the word \"class\" is a reserved keyword in python, better replace it by another word for easier manipulation later"
   ]
  },
  {
   "cell_type": "code",
   "execution_count": 4,
   "metadata": {},
   "outputs": [],
   "source": [
    "for year in years:\n",
    "    raw_data[f\"year{year}\"].rename(columns = {\"class\": \"bankrupted\"}, inplace = True)"
   ]
  },
  {
   "cell_type": "markdown",
   "metadata": {},
   "source": [
    "### B. Data preparation and exploration"
   ]
  },
  {
   "cell_type": "markdown",
   "metadata": {},
   "source": [
    "#### (i) Define attributes and target varialbles"
   ]
  },
  {
   "cell_type": "code",
   "execution_count": 5,
   "metadata": {},
   "outputs": [],
   "source": [
    "features = []\n",
    "for i in range(1,65):\n",
    "    features.append(f\"Attr{i}\")\n",
    "\n",
    "target = [\"bankrupted\"]\n",
    "\n",
    "X = {}\n",
    "Y = {}\n",
    "\n",
    "for year in years:\n",
    "    X[f\"year{year}\"] = raw_data[f\"year{year}\"][features]\n",
    "    Y[f\"year{year}\"] = raw_data[f\"year{year}\"][target]"
   ]
  },
  {
   "cell_type": "markdown",
   "metadata": {},
   "source": [
    "#### (ii) Train test split"
   ]
  },
  {
   "cell_type": "code",
   "execution_count": 6,
   "metadata": {},
   "outputs": [],
   "source": [
    "X_train = {}\n",
    "X_test = {}\n",
    "Y_train = {}\n",
    "Y_test = {}\n",
    "\n",
    "for year in years:\n",
    "    X_train[f\"year{year}\"], X_test[f\"year{year}\"], Y_train[f\"year{year}\"], Y_test[f\"year{year}\"] = train_test_split(X[f\"year{year}\"], Y[f\"year{year}\"], test_size=0.2, random_state=1)"
   ]
  },
  {
   "cell_type": "code",
   "execution_count": 7,
   "metadata": {},
   "outputs": [],
   "source": [
    "# reset the indices for all dataframe\n",
    "for year in years:\n",
    "    X_train[f\"year{year}\"].reset_index(drop=True, inplace=True)\n",
    "    X_test[f\"year{year}\"].reset_index(drop=True, inplace=True)\n",
    "    Y_train[f\"year{year}\"].reset_index(drop=True, inplace=True)\n",
    "    Y_test[f\"year{year}\"].reset_index(drop=True, inplace=True)"
   ]
  },
  {
   "cell_type": "markdown",
   "metadata": {},
   "source": [
    "#### (iii) inspect missing values and data type of data\n",
    "Using year 1 train data as an example: <br>\n",
    "- we can observe that the problem of missing values is quite serious, e.g., for Attr37, there are only 3435 Non-Null values out of 5621 entries\n",
    "- all attributes are in floating point data type, which is desirable\n",
    "- however, the datatype of our target (class) is byte string, we need to convert it into binary number (int) - 0 or 1"
   ]
  },
  {
   "cell_type": "code",
   "execution_count": 8,
   "metadata": {
    "scrolled": false
   },
   "outputs": [
    {
     "name": "stdout",
     "output_type": "stream",
     "text": [
      "<class 'pandas.core.frame.DataFrame'>\n",
      "RangeIndex: 5621 entries, 0 to 5620\n",
      "Data columns (total 64 columns):\n",
      " #   Column  Non-Null Count  Dtype  \n",
      "---  ------  --------------  -----  \n",
      " 0   Attr1   5619 non-null   float64\n",
      " 1   Attr2   5619 non-null   float64\n",
      " 2   Attr3   5619 non-null   float64\n",
      " 3   Attr4   5595 non-null   float64\n",
      " 4   Attr5   5613 non-null   float64\n",
      " 5   Attr6   5619 non-null   float64\n",
      " 6   Attr7   5619 non-null   float64\n",
      " 7   Attr8   5600 non-null   float64\n",
      " 8   Attr9   5621 non-null   float64\n",
      " 9   Attr10  5619 non-null   float64\n",
      " 10  Attr11  5594 non-null   float64\n",
      " 11  Attr12  5595 non-null   float64\n",
      " 12  Attr13  5621 non-null   float64\n",
      " 13  Attr14  5619 non-null   float64\n",
      " 14  Attr15  5619 non-null   float64\n",
      " 15  Attr16  5600 non-null   float64\n",
      " 16  Attr17  5600 non-null   float64\n",
      " 17  Attr18  5619 non-null   float64\n",
      " 18  Attr19  5621 non-null   float64\n",
      " 19  Attr20  5621 non-null   float64\n",
      " 20  Attr21  4327 non-null   float64\n",
      " 21  Attr22  5619 non-null   float64\n",
      " 22  Attr23  5621 non-null   float64\n",
      " 23  Attr24  5527 non-null   float64\n",
      " 24  Attr25  5619 non-null   float64\n",
      " 25  Attr26  5600 non-null   float64\n",
      " 26  Attr27  5380 non-null   float64\n",
      " 27  Attr28  5598 non-null   float64\n",
      " 28  Attr29  5619 non-null   float64\n",
      " 29  Attr30  5621 non-null   float64\n",
      " 30  Attr31  5621 non-null   float64\n",
      " 31  Attr32  5592 non-null   float64\n",
      " 32  Attr33  5595 non-null   float64\n",
      " 33  Attr34  5600 non-null   float64\n",
      " 34  Attr35  5619 non-null   float64\n",
      " 35  Attr36  5619 non-null   float64\n",
      " 36  Attr37  3435 non-null   float64\n",
      " 37  Attr38  5619 non-null   float64\n",
      " 38  Attr39  5621 non-null   float64\n",
      " 39  Attr40  5595 non-null   float64\n",
      " 40  Attr41  5553 non-null   float64\n",
      " 41  Attr42  5621 non-null   float64\n",
      " 42  Attr43  5621 non-null   float64\n",
      " 43  Attr44  5621 non-null   float64\n",
      " 44  Attr45  5503 non-null   float64\n",
      " 45  Attr46  5595 non-null   float64\n",
      " 46  Attr47  5600 non-null   float64\n",
      " 47  Attr48  5619 non-null   float64\n",
      " 48  Attr49  5621 non-null   float64\n",
      " 49  Attr50  5600 non-null   float64\n",
      " 50  Attr51  5619 non-null   float64\n",
      " 51  Attr52  5600 non-null   float64\n",
      " 52  Attr53  5598 non-null   float64\n",
      " 53  Attr54  5598 non-null   float64\n",
      " 54  Attr55  5621 non-null   float64\n",
      " 55  Attr56  5621 non-null   float64\n",
      " 56  Attr57  5620 non-null   float64\n",
      " 57  Attr58  5621 non-null   float64\n",
      " 58  Attr59  5620 non-null   float64\n",
      " 59  Attr60  5502 non-null   float64\n",
      " 60  Attr61  5603 non-null   float64\n",
      " 61  Attr62  5621 non-null   float64\n",
      " 62  Attr63  5595 non-null   float64\n",
      " 63  Attr64  5598 non-null   float64\n",
      "dtypes: float64(64)\n",
      "memory usage: 2.7 MB\n"
     ]
    }
   ],
   "source": [
    "X_train[\"year1\"].info()"
   ]
  },
  {
   "cell_type": "code",
   "execution_count": 9,
   "metadata": {},
   "outputs": [],
   "source": [
    "# fill the NaN values with corresponding column mean of the TRAIN SET for both train and test set\n",
    "\n",
    "for year in years:\n",
    "    mean_values = X_train[f\"year{year}\"].mean()\n",
    "    X_train[f\"year{year}\"] = X_train[f\"year{year}\"].fillna(value=mean_values)\n",
    "    X_test[f\"year{year}\"] = X_test[f\"year{year}\"].fillna(value=mean_values)"
   ]
  },
  {
   "cell_type": "code",
   "execution_count": 10,
   "metadata": {},
   "outputs": [
    {
     "name": "stdout",
     "output_type": "stream",
     "text": [
      "year1 train set contains mo missing values\n",
      "year1 test set contains mo missing values\n",
      "year2 train set contains mo missing values\n",
      "year2 test set contains mo missing values\n",
      "year3 train set contains mo missing values\n",
      "year3 test set contains mo missing values\n",
      "year4 train set contains mo missing values\n",
      "year4 test set contains mo missing values\n",
      "year5 train set contains mo missing values\n",
      "year5 test set contains mo missing values\n"
     ]
    }
   ],
   "source": [
    "# double check all dataframes have zero missing values\n",
    "for year in years:\n",
    "    if (X_train[f\"year{year}\"].isna().sum().sum() == 0):\n",
    "        print(f\"year{year} train set contains mo missing values\")\n",
    "    if (X_test[f\"year{year}\"].isna().sum().sum() == 0):\n",
    "        print(f\"year{year} test set contains mo missing values\")"
   ]
  },
  {
   "cell_type": "markdown",
   "metadata": {},
   "source": [
    "For the target variable \"class\", we need to convert byte into binary variable (0 and 1)"
   ]
  },
  {
   "cell_type": "code",
   "execution_count": 11,
   "metadata": {},
   "outputs": [
    {
     "data": {
      "text/plain": [
       "bytes"
      ]
     },
     "execution_count": 11,
     "metadata": {},
     "output_type": "execute_result"
    }
   ],
   "source": [
    "type(Y_train[\"year1\"].iloc[0][0])"
   ]
  },
  {
   "cell_type": "code",
   "execution_count": 12,
   "metadata": {
    "scrolled": true
   },
   "outputs": [
    {
     "data": {
      "text/plain": [
       "48"
      ]
     },
     "execution_count": 12,
     "metadata": {},
     "output_type": "execute_result"
    }
   ],
   "source": [
    "int.from_bytes(Y_train[\"year1\"].iloc[0][0], \"big\")"
   ]
  },
  {
   "cell_type": "markdown",
   "metadata": {},
   "source": [
    "The view and copy properties of pandas is quite complicated. References for the following code to prevent SettingWithCopywarning:\n",
    "- https://www.youtube.com/watch?v=4R4WsDJ-KVc\n",
    "- https://towardsdatascience.com/3-solutions-for-the-setting-with-copy-warning-of-python-pandas-dfe15d62de08"
   ]
  },
  {
   "cell_type": "code",
   "execution_count": 13,
   "metadata": {},
   "outputs": [],
   "source": [
    "# ASCII code for b'0' is 48\n",
    "# ASCII code for b'1' is 49\n",
    "\n",
    "# apply change of datatype on the \"class\" variable\n",
    "\n",
    "for year in years:\n",
    "    train_copy = Y_train[f\"year{year}\"].copy()\n",
    "    test_copy = Y_test[f\"year{year}\"].copy()\n",
    "    train_copy[\"bankrupted\"] = Y_train[f\"year{year}\"].bankrupted.apply(lambda x: 0 if (int.from_bytes(x, \"big\") == 48)  else 1)\n",
    "    test_copy[\"bankrupted\"] = Y_test[f\"year{year}\"].bankrupted.apply(lambda x: 0 if (int.from_bytes(x, \"big\") == 48)  else 1)\n",
    "    Y_train[f\"year{year}\"] = train_copy.copy()\n",
    "    Y_test[f\"year{year}\"] = test_copy.copy()"
   ]
  },
  {
   "cell_type": "markdown",
   "metadata": {},
   "source": [
    "#### (iv) inspect the distribution of the target variable\n",
    "Reference: https://stackoverflow.com/questions/10369681/how-to-plot-bar-graphs-with-same-x-coordinates-side-by-side-dodged"
   ]
  },
  {
   "cell_type": "markdown",
   "metadata": {},
   "source": [
    "- from the graph plotting below, we can observe a seriosu class imbalance in our target variable, while our variable of interest (bankruptcy) is the minority group\n",
    "- for such imbalanced dataset, evaluation metrics such as precision and recall should be emphasized over accuracy"
   ]
  },
  {
   "cell_type": "code",
   "execution_count": 14,
   "metadata": {},
   "outputs": [
    {
     "data": {
      "image/png": "[encoded data removed]",
      "text/plain": [
       "<Figure size 720x360 with 1 Axes>"
      ]
     },
     "metadata": {
      "needs_background": "light"
     },
     "output_type": "display_data"
    }
   ],
   "source": [
    "class_0 = []\n",
    "class_1 = []\n",
    "x_axis_label = []\n",
    "\n",
    "for year in years:\n",
    "    class_0.append(Y_train[f\"year{year}\"][\"bankrupted\"].value_counts()[0])\n",
    "    class_1.append(Y_train[f\"year{year}\"][\"bankrupted\"].value_counts()[1])\n",
    "    x_axis_label.append(f\"year{year}\")\n",
    "    \n",
    "# position of bars on x-axis\n",
    "ind = np.arange(5)\n",
    "\n",
    "# figure size\n",
    "plt.figure(figsize=(10,5))\n",
    "\n",
    "# width of bar\n",
    "width = 0.3\n",
    "\n",
    "# Plotting\n",
    "plt.bar(ind, class_0 , width, label=\"Not bankrupted\")\n",
    "plt.bar(ind + width, class_1, width, label=\"Bankrupted\")\n",
    "        \n",
    "plt.xlabel(\"Dataset\")\n",
    "plt.ylabel(\"Frequency\")\n",
    "plt.title(\"Distribution of target variables in the train set\")\n",
    "\n",
    "plt.xticks(ind + width / 2, x_axis_label)\n",
    "\n",
    "# Finding the best position for legends and putting it\n",
    "plt.legend(loc='best')\n",
    "plt.show()"
   ]
  },
  {
   "cell_type": "markdown",
   "metadata": {},
   "source": [
    "#### (v) perform normalization\n",
    "- standardization may help the convergence of logistic regression if we perform regularization\n",
    "- however, normalization generally has little effect on Decision Tree Model and Naive Bayes Model\n",
    "- here we use the train set to create the scaler for both train set and test set, since we assume the train set is representable enough"
   ]
  },
  {
   "cell_type": "code",
   "execution_count": 15,
   "metadata": {},
   "outputs": [],
   "source": [
    "# create scalers for each year's dataset\n",
    "\n",
    "# a dictionary of scalers\n",
    "z_score_scaler = {}\n",
    "\n",
    "for year in years:\n",
    "    z_score_scaler[f\"year{year}\"] = preprocessing.StandardScaler().fit(X_train[f\"year{year}\"])"
   ]
  },
  {
   "cell_type": "code",
   "execution_count": 16,
   "metadata": {},
   "outputs": [],
   "source": [
    "# apply the scalers to each dataset\n",
    "\n",
    "for year in years:\n",
    "    X_train[f\"year{year}\"] = z_score_scaler[f\"year{year}\"].transform(X_train[f\"year{year}\"])\n",
    "    X_test[f\"year{year}\"] = z_score_scaler[f\"year{year}\"].transform(X_test[f\"year{year}\"])"
   ]
  },
  {
   "cell_type": "markdown",
   "metadata": {},
   "source": [
    "### C. Data modeling"
   ]
  },
  {
   "cell_type": "markdown",
   "metadata": {},
   "source": [
    "We are performing a classification task, and our team will try out the following models:\n",
    "- Decision Tree Model\n",
    "- Random Forest Model\n",
    "- Gaussian Naive Bayes Model\n",
    "- Logistic Regression Model"
   ]
  },
  {
   "cell_type": "markdown",
   "metadata": {},
   "source": [
    "#### (i) Decision Tree Model"
   ]
  },
  {
   "cell_type": "markdown",
   "metadata": {},
   "source": [
    "The following hyper-paramteres will be used in the decision tree model:\n",
    "- max_depth\n",
    "- max_leaf_nodes"
   ]
  },
  {
   "cell_type": "code",
   "execution_count": 17,
   "metadata": {},
   "outputs": [],
   "source": [
    "depths = np.arange(1, 21)\n",
    "max_leafs = np.arange(5,51,5)"
   ]
  },
  {
   "cell_type": "code",
   "execution_count": 18,
   "metadata": {},
   "outputs": [],
   "source": [
    "# define a grid of decision tree hyperparameters\n",
    "decsion_tree_try_grid = [{\"max_depth\":depths,\n",
    "                          \"max_leaf_nodes\":max_leafs}]"
   ]
  },
  {
   "cell_type": "code",
   "execution_count": 19,
   "metadata": {},
   "outputs": [],
   "source": [
    "# dictionary of models for grid search CV\n",
    "DTM = {}\n",
    "\n",
    "for year in years:\n",
    "    DTM[f\"year{year}\"] = GridSearchCV(DecisionTreeClassifier(), param_grid=decsion_tree_try_grid, cv=10)"
   ]
  },
  {
   "cell_type": "code",
   "execution_count": 20,
   "metadata": {},
   "outputs": [],
   "source": [
    "# fit the training set\n",
    "for year in years:\n",
    "    DTM[f\"year{year}\"].fit(X_train[f\"year{year}\"], Y_train[f\"year{year}\"])"
   ]
  },
  {
   "cell_type": "markdown",
   "metadata": {},
   "source": [
    "The following table summaries the \"best\" hyper-parameters and accruacy score for each year"
   ]
  },
  {
   "cell_type": "code",
   "execution_count": 31,
   "metadata": {},
   "outputs": [],
   "source": [
    "max_depth = []\n",
    "max_leaf_nodes = []\n",
    "best_score = []\n",
    "\n",
    "for year in years:\n",
    "    max_depth.append(DTM[f\"year{year}\"].best_params_[\"max_depth\"])\n",
    "    max_leaf_nodes.append(DTM[f\"year{year}\"].best_params_[\"max_leaf_nodes\"])\n",
    "    best_score.append(DTM[f\"year{year}\"].best_score_)"
   ]
  },
  {
   "cell_type": "code",
   "execution_count": 32,
   "metadata": {},
   "outputs": [
    {
     "data": {
      "text/html": [
       "<div>\n",
       "<style scoped>\n",
       "    .dataframe tbody tr th:only-of-type {\n",
       "        vertical-align: middle;\n",
       "    }\n",
       "\n",
       "    .dataframe tbody tr th {\n",
       "        vertical-align: top;\n",
       "    }\n",
       "\n",
       "    .dataframe thead th {\n",
       "        text-align: right;\n",
       "    }\n",
       "</style>\n",
       "<table border=\"1\" class=\"dataframe\">\n",
       "  <thead>\n",
       "    <tr style=\"text-align: right;\">\n",
       "      <th></th>\n",
       "      <th>year</th>\n",
       "      <th>max_depth</th>\n",
       "      <th>max_leaf_nodes</th>\n",
       "      <th>best_score</th>\n",
       "    </tr>\n",
       "  </thead>\n",
       "  <tbody>\n",
       "    <tr>\n",
       "      <th>0</th>\n",
       "      <td>1</td>\n",
       "      <td>13</td>\n",
       "      <td>15</td>\n",
       "      <td>0.976517</td>\n",
       "    </tr>\n",
       "    <tr>\n",
       "      <th>1</th>\n",
       "      <td>2</td>\n",
       "      <td>6</td>\n",
       "      <td>10</td>\n",
       "      <td>0.974809</td>\n",
       "    </tr>\n",
       "    <tr>\n",
       "      <th>2</th>\n",
       "      <td>3</td>\n",
       "      <td>10</td>\n",
       "      <td>5</td>\n",
       "      <td>0.963819</td>\n",
       "    </tr>\n",
       "    <tr>\n",
       "      <th>3</th>\n",
       "      <td>4</td>\n",
       "      <td>11</td>\n",
       "      <td>15</td>\n",
       "      <td>0.958892</td>\n",
       "    </tr>\n",
       "    <tr>\n",
       "      <th>4</th>\n",
       "      <td>5</td>\n",
       "      <td>7</td>\n",
       "      <td>20</td>\n",
       "      <td>0.948390</td>\n",
       "    </tr>\n",
       "  </tbody>\n",
       "</table>\n",
       "</div>"
      ],
      "text/plain": [
       "   year  max_depth  max_leaf_nodes  best_score\n",
       "0     1         13              15    0.976517\n",
       "1     2          6              10    0.974809\n",
       "2     3         10               5    0.963819\n",
       "3     4         11              15    0.958892\n",
       "4     5          7              20    0.948390"
      ]
     },
     "execution_count": 32,
     "metadata": {},
     "output_type": "execute_result"
    }
   ],
   "source": [
    "d = {\"year\":years, \"max_depth\":max_depth, \"max_leaf_nodes\":max_leaf_nodes, \"best_score\":best_score}\n",
    "pd.DataFrame(data=d, index=None)"
   ]
  },
  {
   "cell_type": "code",
   "execution_count": 34,
   "metadata": {},
   "outputs": [],
   "source": [
    "# train the final decision tree models according to the best parameters\n",
    "DTM_final = {}\n",
    "\n",
    "for year in years:\n",
    "    DTM_final[f\"year{year}\"] = DecisionTreeClassifier(max_depth = DTM[f\"year{year}\"].best_params_[\"max_depth\"],\n",
    "                                                      max_leaf_nodes = DTM[f\"year{year}\"].best_params_[\"max_leaf_nodes\"])\n",
    "    \n",
    "    DTM_final[f\"year{year}\"].fit(X_train[f\"year{year}\"], Y_train[f\"year{year}\"])"
   ]
  },
  {
   "cell_type": "markdown",
   "metadata": {},
   "source": [
    "### D. Model evaluation"
   ]
  }
 ],
 "metadata": {
  "kernelspec": {
   "display_name": "Python 3",
   "language": "python",
   "name": "python3"
  },
  "language_info": {
   "codemirror_mode": {
    "name": "ipython",
    "version": 3
   },
   "file_extension": ".py",
   "mimetype": "text/x-python",
   "name": "python",
   "nbconvert_exporter": "python",
   "pygments_lexer": "ipython3",
   "version": "3.8.5"
  }
 },
 "nbformat": 4,
 "nbformat_minor": 4
}
